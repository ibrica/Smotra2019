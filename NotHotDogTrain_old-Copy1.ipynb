{
 "cells": [
  {
   "cell_type": "markdown",
   "metadata": {},
   "source": [
    "# Treniranje Hotdog/Not-Hotdog klasifikatora"
   ]
  },
  {
   "cell_type": "code",
   "execution_count": 3,
   "metadata": {},
   "outputs": [],
   "source": [
    "import os\n",
    "\n",
    "import seaborn as sns\n",
    "from sklearn.metrics import confusion_matrix\n",
    "import numpy as np\n",
    "import pandas as pd\n",
    "import cv2\n",
    "import matplotlib.pyplot as plt\n",
    "import pathlib as path\n",
    "import tensorflow.keras as keras\n",
    "from tensorflow.keras.preprocessing.image import ImageDataGenerator, array_to_img, img_to_array, load_img\n",
    "from tensorflow.keras.models import Sequential, load_model\n",
    "from tensorflow.keras.layers import Dense, Activation, Conv2D, Flatten, Dropout, MaxPooling2D\n",
    "from tensorflow.keras.callbacks import ModelCheckpoint\n",
    "from tensorflow.keras.applications.inception_v3 import InceptionV3, preprocess_input"
   ]
  },
  {
   "cell_type": "code",
   "execution_count": 4,
   "metadata": {},
   "outputs": [],
   "source": [
    "keras.backend.clear_session()"
   ]
  },
  {
   "cell_type": "code",
   "execution_count": 5,
   "metadata": {},
   "outputs": [],
   "source": [
    "DATA = path.Path('./data')\n",
    "batch_size = 32"
   ]
  },
  {
   "cell_type": "code",
   "execution_count": 6,
   "metadata": {},
   "outputs": [],
   "source": [
    "datagen = ImageDataGenerator(rescale=1. / 255)"
   ]
  },
  {
   "cell_type": "code",
   "execution_count": 7,
   "metadata": {},
   "outputs": [
    {
     "name": "stdout",
     "output_type": "stream",
     "text": [
      "Found 2347 images belonging to 2 classes.\n"
     ]
    }
   ],
   "source": [
    "train_generator = datagen.flow_from_directory(\n",
    "        (DATA/'train').as_posix(),\n",
    "        target_size=(299, 299),\n",
    "        batch_size=batch_size,\n",
    "        class_mode=None,  \n",
    "        shuffle=False)"
   ]
  },
  {
   "cell_type": "markdown",
   "metadata": {},
   "source": [
    "## Inception Net predefinirani model za train i test skupove slika"
   ]
  },
  {
   "cell_type": "code",
   "execution_count": 8,
   "metadata": {},
   "outputs": [],
   "source": [
    "model = InceptionV3(weights='imagenet', include_top=False, input_shape=(299, 299, 3))"
   ]
  },
  {
   "cell_type": "code",
   "execution_count": 9,
   "metadata": {},
   "outputs": [],
   "source": [
    "model.compile(optimizer='adam',\n",
    "              loss='binary_crossentropy',\n",
    "              metrics=['binary_accuracy'])"
   ]
  },
  {
   "cell_type": "code",
   "execution_count": 10,
   "metadata": {},
   "outputs": [
    {
     "name": "stdout",
     "output_type": "stream",
     "text": [
      "460/459 [==============================] - 107s 234ms/step\n"
     ]
    }
   ],
   "source": [
    "bottleneck_features_train = model.predict_generator(train_generator, 14690/batch_size, verbose=1)"
   ]
  },
  {
   "cell_type": "code",
   "execution_count": 11,
   "metadata": {},
   "outputs": [
    {
     "data": {
      "text/plain": [
       "(14594, 8, 8, 2048)"
      ]
     },
     "execution_count": 11,
     "metadata": {},
     "output_type": "execute_result"
    }
   ],
   "source": [
    "bottleneck_features_train.shape"
   ]
  },
  {
   "cell_type": "code",
   "execution_count": 12,
   "metadata": {},
   "outputs": [],
   "source": [
    "np.savez('inception_features_train', features=bottleneck_features_train)"
   ]
  },
  {
   "cell_type": "code",
   "execution_count": 13,
   "metadata": {},
   "outputs": [
    {
     "name": "stdout",
     "output_type": "stream",
     "text": [
      "Found 200 images belonging to 2 classes.\n"
     ]
    }
   ],
   "source": [
    "test_generator = datagen.flow_from_directory(\n",
    "        (DATA/'test').as_posix(),\n",
    "        target_size=(299, 299),\n",
    "        batch_size=batch_size,\n",
    "        class_mode=None,\n",
    "        shuffle=False)"
   ]
  },
  {
   "cell_type": "code",
   "execution_count": 14,
   "metadata": {},
   "outputs": [
    {
     "name": "stdout",
     "output_type": "stream",
     "text": [
      "18/17 [==============================] - 4s 220ms/step\n"
     ]
    }
   ],
   "source": [
    "bottleneck_features_test = model.predict_generator(test_generator, 560/batch_size, verbose=1)\n",
    "np.savez('inception_features_test', features=bottleneck_features_test)"
   ]
  },
  {
   "cell_type": "code",
   "execution_count": 15,
   "metadata": {},
   "outputs": [],
   "source": [
    "train_data = np.load('inception_features_train.npz')['features']"
   ]
  },
  {
   "cell_type": "code",
   "execution_count": 16,
   "metadata": {},
   "outputs": [
    {
     "data": {
      "text/plain": [
       "(14594, 8, 8, 2048)"
      ]
     },
     "execution_count": 16,
     "metadata": {},
     "output_type": "execute_result"
    }
   ],
   "source": [
    "train_data.shape"
   ]
  },
  {
   "cell_type": "code",
   "execution_count": 28,
   "metadata": {},
   "outputs": [],
   "source": [
    "train_labels = np.array([0] * 7297 + [1] * 7297)"
   ]
  },
  {
   "cell_type": "code",
   "execution_count": 29,
   "metadata": {},
   "outputs": [
    {
     "data": {
      "text/plain": [
       "(14594,)"
      ]
     },
     "execution_count": 29,
     "metadata": {},
     "output_type": "execute_result"
    }
   ],
   "source": [
    "train_labels.shape"
   ]
  },
  {
   "cell_type": "code",
   "execution_count": 19,
   "metadata": {},
   "outputs": [],
   "source": [
    "test_data = np.load('inception_features_test.npz')['features']\n",
    "test_labels = np.array([0] * 264 + [1] * 264)"
   ]
  },
  {
   "cell_type": "code",
   "execution_count": 20,
   "metadata": {},
   "outputs": [
    {
     "data": {
      "text/plain": [
       "(528, 8, 8, 2048)"
      ]
     },
     "execution_count": 20,
     "metadata": {},
     "output_type": "execute_result"
    }
   ],
   "source": [
    "test_data.shape"
   ]
  },
  {
   "cell_type": "code",
   "execution_count": 21,
   "metadata": {},
   "outputs": [
    {
     "data": {
      "text/plain": [
       "(528,)"
      ]
     },
     "execution_count": 21,
     "metadata": {},
     "output_type": "execute_result"
    }
   ],
   "source": [
    "test_labels.shape"
   ]
  },
  {
   "cell_type": "code",
   "execution_count": 22,
   "metadata": {},
   "outputs": [
    {
     "name": "stdout",
     "output_type": "stream",
     "text": [
      "['hotdog', 'nothotdog']\n"
     ]
    }
   ],
   "source": [
    "classes = test_generator.class_indices\n",
    "class_names = []\n",
    "for key in classes.keys():\n",
    "    class_names.append(key)\n",
    "print(class_names)"
   ]
  },
  {
   "cell_type": "markdown",
   "metadata": {},
   "source": [
    "## Definicija i treniranje modela"
   ]
  },
  {
   "cell_type": "code",
   "execution_count": 23,
   "metadata": {},
   "outputs": [],
   "source": [
    "model = Sequential()"
   ]
  },
  {
   "cell_type": "code",
   "execution_count": 24,
   "metadata": {},
   "outputs": [],
   "source": [
    "model.add(Conv2D(32, (3, 3), activation='relu', input_shape=train_data.shape[1:], padding='same'))\n",
    "model.add(Conv2D(32, (3, 3), activation='relu', padding='same'))\n",
    "model.add(MaxPooling2D(pool_size=(3, 3)))\n",
    "model.add(Dropout(0.25))\n",
    "\n",
    "model.add(Conv2D(64, (3, 3), activation='relu', padding='same'))\n",
    "model.add(Conv2D(64, (3, 3), activation='relu', padding='same'))\n",
    "model.add(MaxPooling2D(pool_size=(2, 2)))\n",
    "model.add(Dropout(0.50))\n",
    "\n",
    "model.add(Flatten())\n",
    "model.add(Dense(512, activation='relu'))\n",
    "model.add(Dropout(0.6))\n",
    "model.add(Dense(256, activation='relu'))\n",
    "model.add(Dropout(0.5))\n",
    "model.add(Dense(1, activation='sigmoid'))"
   ]
  },
  {
   "cell_type": "code",
   "execution_count": 25,
   "metadata": {},
   "outputs": [],
   "source": [
    "checkpointer = ModelCheckpoint(filepath=(DATA/'weights_inception.hdf5').as_posix(), verbose=1, save_best_only=True)"
   ]
  },
  {
   "cell_type": "code",
   "execution_count": 26,
   "metadata": {},
   "outputs": [
    {
     "name": "stdout",
     "output_type": "stream",
     "text": [
      "_________________________________________________________________\n",
      "Layer (type)                 Output Shape              Param #   \n",
      "=================================================================\n",
      "conv2d_94 (Conv2D)           (None, 8, 8, 32)          589856    \n",
      "_________________________________________________________________\n",
      "conv2d_95 (Conv2D)           (None, 8, 8, 32)          9248      \n",
      "_________________________________________________________________\n",
      "max_pooling2d_4 (MaxPooling2 (None, 2, 2, 32)          0         \n",
      "_________________________________________________________________\n",
      "dropout (Dropout)            (None, 2, 2, 32)          0         \n",
      "_________________________________________________________________\n",
      "conv2d_96 (Conv2D)           (None, 2, 2, 64)          18496     \n",
      "_________________________________________________________________\n",
      "conv2d_97 (Conv2D)           (None, 2, 2, 64)          36928     \n",
      "_________________________________________________________________\n",
      "max_pooling2d_5 (MaxPooling2 (None, 1, 1, 64)          0         \n",
      "_________________________________________________________________\n",
      "dropout_1 (Dropout)          (None, 1, 1, 64)          0         \n",
      "_________________________________________________________________\n",
      "flatten (Flatten)            (None, 64)                0         \n",
      "_________________________________________________________________\n",
      "dense (Dense)                (None, 512)               33280     \n",
      "_________________________________________________________________\n",
      "dropout_2 (Dropout)          (None, 512)               0         \n",
      "_________________________________________________________________\n",
      "dense_1 (Dense)              (None, 256)               131328    \n",
      "_________________________________________________________________\n",
      "dropout_3 (Dropout)          (None, 256)               0         \n",
      "_________________________________________________________________\n",
      "dense_2 (Dense)              (None, 1)                 257       \n",
      "=================================================================\n",
      "Total params: 819,393\n",
      "Trainable params: 819,393\n",
      "Non-trainable params: 0\n",
      "_________________________________________________________________\n"
     ]
    }
   ],
   "source": [
    "# keras.utils.print_summary(model) doesn't work\n",
    "model.summary()"
   ]
  },
  {
   "cell_type": "code",
   "execution_count": 30,
   "metadata": {},
   "outputs": [
    {
     "name": "stdout",
     "output_type": "stream",
     "text": [
      "Train on 10215 samples, validate on 4379 samples\n",
      "Epoch 1/50\n",
      "\n",
      "Epoch 00001: val_loss improved from inf to 1.25712, saving model to data/weights_inception.hdf5\n",
      " - 7s - loss: 0.6127 - binary_accuracy: 0.7116 - val_loss: 1.2571 - val_binary_accuracy: 0.0000e+00\n",
      "Epoch 2/50\n",
      "\n",
      "Epoch 00002: val_loss did not improve from 1.25712\n",
      " - 4s - loss: 0.6013 - binary_accuracy: 0.7143 - val_loss: 1.2973 - val_binary_accuracy: 0.0000e+00\n",
      "Epoch 3/50\n",
      "\n",
      "Epoch 00003: val_loss did not improve from 1.25712\n",
      " - 4s - loss: 0.6007 - binary_accuracy: 0.7143 - val_loss: 1.3234 - val_binary_accuracy: 0.0000e+00\n",
      "Epoch 4/50\n",
      "\n",
      "Epoch 00004: val_loss improved from 1.25712 to 1.20848, saving model to data/weights_inception.hdf5\n",
      " - 4s - loss: 0.6007 - binary_accuracy: 0.7143 - val_loss: 1.2085 - val_binary_accuracy: 0.0000e+00\n",
      "Epoch 5/50\n",
      "\n",
      "Epoch 00005: val_loss improved from 1.20848 to 1.18831, saving model to data/weights_inception.hdf5\n",
      " - 4s - loss: 0.6014 - binary_accuracy: 0.7143 - val_loss: 1.1883 - val_binary_accuracy: 0.0000e+00\n",
      "Epoch 6/50\n",
      "\n",
      "Epoch 00006: val_loss did not improve from 1.18831\n",
      " - 4s - loss: 0.5995 - binary_accuracy: 0.7143 - val_loss: 1.1915 - val_binary_accuracy: 0.0000e+00\n",
      "Epoch 7/50\n",
      "\n",
      "Epoch 00007: val_loss improved from 1.18831 to 1.16866, saving model to data/weights_inception.hdf5\n",
      " - 4s - loss: 0.6000 - binary_accuracy: 0.7143 - val_loss: 1.1687 - val_binary_accuracy: 0.0000e+00\n",
      "Epoch 8/50\n",
      "\n",
      "Epoch 00008: val_loss did not improve from 1.16866\n",
      " - 4s - loss: 0.6000 - binary_accuracy: 0.7143 - val_loss: 1.2315 - val_binary_accuracy: 0.0000e+00\n",
      "Epoch 9/50\n",
      "\n",
      "Epoch 00009: val_loss did not improve from 1.16866\n",
      " - 4s - loss: 0.6003 - binary_accuracy: 0.7143 - val_loss: 1.2443 - val_binary_accuracy: 0.0000e+00\n",
      "Epoch 10/50\n",
      "\n",
      "Epoch 00010: val_loss did not improve from 1.16866\n",
      " - 4s - loss: 0.6001 - binary_accuracy: 0.7143 - val_loss: 1.2501 - val_binary_accuracy: 0.0000e+00\n",
      "Epoch 11/50\n",
      "\n",
      "Epoch 00011: val_loss did not improve from 1.16866\n",
      " - 4s - loss: 0.5994 - binary_accuracy: 0.7143 - val_loss: 1.2388 - val_binary_accuracy: 0.0000e+00\n",
      "Epoch 12/50\n",
      "\n",
      "Epoch 00012: val_loss did not improve from 1.16866\n",
      " - 4s - loss: 0.6004 - binary_accuracy: 0.7143 - val_loss: 1.2674 - val_binary_accuracy: 0.0000e+00\n",
      "Epoch 13/50\n",
      "\n",
      "Epoch 00013: val_loss did not improve from 1.16866\n",
      " - 4s - loss: 0.5993 - binary_accuracy: 0.7143 - val_loss: 1.1798 - val_binary_accuracy: 0.0000e+00\n",
      "Epoch 14/50\n",
      "\n",
      "Epoch 00014: val_loss did not improve from 1.16866\n",
      " - 4s - loss: 0.5990 - binary_accuracy: 0.7143 - val_loss: 1.3144 - val_binary_accuracy: 0.0000e+00\n",
      "Epoch 15/50\n",
      "\n",
      "Epoch 00015: val_loss did not improve from 1.16866\n",
      " - 4s - loss: 0.6001 - binary_accuracy: 0.7143 - val_loss: 1.2941 - val_binary_accuracy: 0.0000e+00\n",
      "Epoch 16/50\n",
      "\n",
      "Epoch 00016: val_loss did not improve from 1.16866\n",
      " - 4s - loss: 0.5993 - binary_accuracy: 0.7143 - val_loss: 1.3020 - val_binary_accuracy: 0.0000e+00\n",
      "Epoch 17/50\n",
      "\n",
      "Epoch 00017: val_loss did not improve from 1.16866\n",
      " - 4s - loss: 0.5988 - binary_accuracy: 0.7143 - val_loss: 1.2363 - val_binary_accuracy: 0.0000e+00\n",
      "Epoch 18/50\n",
      "\n",
      "Epoch 00018: val_loss did not improve from 1.16866\n",
      " - 4s - loss: 0.5991 - binary_accuracy: 0.7143 - val_loss: 1.2730 - val_binary_accuracy: 0.0000e+00\n",
      "Epoch 19/50\n",
      "\n",
      "Epoch 00019: val_loss did not improve from 1.16866\n",
      " - 4s - loss: 0.5998 - binary_accuracy: 0.7143 - val_loss: 1.2669 - val_binary_accuracy: 0.0000e+00\n",
      "Epoch 20/50\n",
      "\n",
      "Epoch 00020: val_loss did not improve from 1.16866\n",
      " - 4s - loss: 0.5983 - binary_accuracy: 0.7143 - val_loss: 1.3140 - val_binary_accuracy: 0.0000e+00\n",
      "Epoch 21/50\n",
      "\n",
      "Epoch 00021: val_loss did not improve from 1.16866\n",
      " - 4s - loss: 0.5994 - binary_accuracy: 0.7143 - val_loss: 1.2847 - val_binary_accuracy: 0.0000e+00\n",
      "Epoch 22/50\n",
      "\n",
      "Epoch 00022: val_loss did not improve from 1.16866\n",
      " - 4s - loss: 0.5994 - binary_accuracy: 0.7143 - val_loss: 1.2552 - val_binary_accuracy: 0.0000e+00\n",
      "Epoch 23/50\n",
      "\n",
      "Epoch 00023: val_loss did not improve from 1.16866\n",
      " - 4s - loss: 0.5988 - binary_accuracy: 0.7143 - val_loss: 1.2377 - val_binary_accuracy: 0.0000e+00\n",
      "Epoch 24/50\n",
      "\n",
      "Epoch 00024: val_loss did not improve from 1.16866\n",
      " - 4s - loss: 0.5992 - binary_accuracy: 0.7143 - val_loss: 1.2630 - val_binary_accuracy: 0.0000e+00\n",
      "Epoch 25/50\n",
      "\n",
      "Epoch 00025: val_loss did not improve from 1.16866\n",
      " - 4s - loss: 0.5990 - binary_accuracy: 0.7143 - val_loss: 1.2596 - val_binary_accuracy: 0.0000e+00\n",
      "Epoch 26/50\n",
      "\n",
      "Epoch 00026: val_loss did not improve from 1.16866\n",
      " - 4s - loss: 0.5994 - binary_accuracy: 0.7143 - val_loss: 1.2301 - val_binary_accuracy: 0.0000e+00\n",
      "Epoch 27/50\n",
      "\n",
      "Epoch 00027: val_loss did not improve from 1.16866\n",
      " - 4s - loss: 0.5995 - binary_accuracy: 0.7143 - val_loss: 1.2401 - val_binary_accuracy: 0.0000e+00\n",
      "Epoch 28/50\n",
      "\n",
      "Epoch 00028: val_loss did not improve from 1.16866\n",
      " - 4s - loss: 0.5990 - binary_accuracy: 0.7143 - val_loss: 1.1963 - val_binary_accuracy: 0.0000e+00\n",
      "Epoch 29/50\n",
      "\n",
      "Epoch 00029: val_loss did not improve from 1.16866\n",
      " - 4s - loss: 0.5991 - binary_accuracy: 0.7143 - val_loss: 1.2581 - val_binary_accuracy: 0.0000e+00\n",
      "Epoch 30/50\n",
      "\n",
      "Epoch 00030: val_loss did not improve from 1.16866\n",
      " - 4s - loss: 0.5984 - binary_accuracy: 0.7143 - val_loss: 1.2935 - val_binary_accuracy: 0.0000e+00\n",
      "Epoch 31/50\n",
      "\n",
      "Epoch 00031: val_loss did not improve from 1.16866\n",
      " - 4s - loss: 0.5988 - binary_accuracy: 0.7143 - val_loss: 1.2366 - val_binary_accuracy: 0.0000e+00\n",
      "Epoch 32/50\n",
      "\n",
      "Epoch 00032: val_loss did not improve from 1.16866\n",
      " - 4s - loss: 0.5989 - binary_accuracy: 0.7143 - val_loss: 1.2907 - val_binary_accuracy: 0.0000e+00\n",
      "Epoch 33/50\n",
      "\n",
      "Epoch 00033: val_loss did not improve from 1.16866\n",
      " - 4s - loss: 0.5984 - binary_accuracy: 0.7143 - val_loss: 1.2191 - val_binary_accuracy: 0.0000e+00\n",
      "Epoch 34/50\n",
      "\n",
      "Epoch 00034: val_loss did not improve from 1.16866\n",
      " - 4s - loss: 0.5988 - binary_accuracy: 0.7143 - val_loss: 1.2506 - val_binary_accuracy: 0.0000e+00\n",
      "Epoch 35/50\n",
      "\n",
      "Epoch 00035: val_loss did not improve from 1.16866\n",
      " - 4s - loss: 0.5989 - binary_accuracy: 0.7143 - val_loss: 1.2402 - val_binary_accuracy: 0.0000e+00\n",
      "Epoch 36/50\n",
      "\n",
      "Epoch 00036: val_loss did not improve from 1.16866\n",
      " - 4s - loss: 0.5991 - binary_accuracy: 0.7143 - val_loss: 1.2468 - val_binary_accuracy: 0.0000e+00\n",
      "Epoch 37/50\n",
      "\n",
      "Epoch 00037: val_loss did not improve from 1.16866\n",
      " - 4s - loss: 0.5993 - binary_accuracy: 0.7143 - val_loss: 1.2146 - val_binary_accuracy: 0.0000e+00\n",
      "Epoch 38/50\n",
      "\n",
      "Epoch 00038: val_loss did not improve from 1.16866\n",
      " - 4s - loss: 0.5986 - binary_accuracy: 0.7143 - val_loss: 1.2135 - val_binary_accuracy: 0.0000e+00\n",
      "Epoch 39/50\n",
      "\n",
      "Epoch 00039: val_loss did not improve from 1.16866\n",
      " - 4s - loss: 0.5990 - binary_accuracy: 0.7143 - val_loss: 1.2506 - val_binary_accuracy: 0.0000e+00\n",
      "Epoch 40/50\n",
      "\n",
      "Epoch 00040: val_loss did not improve from 1.16866\n",
      " - 4s - loss: 0.5993 - binary_accuracy: 0.7143 - val_loss: 1.2540 - val_binary_accuracy: 0.0000e+00\n",
      "Epoch 41/50\n",
      "\n",
      "Epoch 00041: val_loss did not improve from 1.16866\n",
      " - 4s - loss: 0.5988 - binary_accuracy: 0.7143 - val_loss: 1.2157 - val_binary_accuracy: 0.0000e+00\n",
      "Epoch 42/50\n",
      "\n",
      "Epoch 00042: val_loss did not improve from 1.16866\n",
      " - 4s - loss: 0.5988 - binary_accuracy: 0.7143 - val_loss: 1.2767 - val_binary_accuracy: 0.0000e+00\n",
      "Epoch 43/50\n",
      "\n",
      "Epoch 00043: val_loss did not improve from 1.16866\n",
      " - 4s - loss: 0.5983 - binary_accuracy: 0.7143 - val_loss: 1.3241 - val_binary_accuracy: 0.0000e+00\n",
      "Epoch 44/50\n",
      "\n",
      "Epoch 00044: val_loss did not improve from 1.16866\n",
      " - 4s - loss: 0.5989 - binary_accuracy: 0.7143 - val_loss: 1.2365 - val_binary_accuracy: 0.0000e+00\n",
      "Epoch 45/50\n",
      "\n",
      "Epoch 00045: val_loss did not improve from 1.16866\n",
      " - 4s - loss: 0.5992 - binary_accuracy: 0.7143 - val_loss: 1.2660 - val_binary_accuracy: 0.0000e+00\n",
      "Epoch 46/50\n",
      "\n",
      "Epoch 00046: val_loss did not improve from 1.16866\n",
      " - 4s - loss: 0.5992 - binary_accuracy: 0.7143 - val_loss: 1.2441 - val_binary_accuracy: 0.0000e+00\n",
      "Epoch 47/50\n",
      "\n",
      "Epoch 00047: val_loss did not improve from 1.16866\n",
      " - 4s - loss: 0.5992 - binary_accuracy: 0.7143 - val_loss: 1.2307 - val_binary_accuracy: 0.0000e+00\n",
      "Epoch 48/50\n",
      "\n",
      "Epoch 00048: val_loss did not improve from 1.16866\n",
      " - 4s - loss: 0.5992 - binary_accuracy: 0.7143 - val_loss: 1.2432 - val_binary_accuracy: 0.0000e+00\n",
      "Epoch 49/50\n",
      "\n",
      "Epoch 00049: val_loss did not improve from 1.16866\n",
      " - 4s - loss: 0.5993 - binary_accuracy: 0.7143 - val_loss: 1.2804 - val_binary_accuracy: 0.0000e+00\n",
      "Epoch 50/50\n",
      "\n",
      "Epoch 00050: val_loss did not improve from 1.16866\n",
      " - 4s - loss: 0.5985 - binary_accuracy: 0.7143 - val_loss: 1.2528 - val_binary_accuracy: 0.0000e+00\n"
     ]
    }
   ],
   "source": [
    "#sgd = SGD(lr=0.01, decay=1e-6, momentum=0.9, nesterov=True)\n",
    "model.compile(optimizer='adam',\n",
    "              loss='binary_crossentropy',\n",
    "              metrics=['binary_accuracy'])\n",
    "\n",
    "history = model.fit(train_data, train_labels,\n",
    "          epochs=50,\n",
    "          batch_size=batch_size,\n",
    "          validation_split=0.3,\n",
    "          verbose=2,\n",
    "          callbacks=[checkpointer], shuffle=True)\n"
   ]
  },
  {
   "cell_type": "code",
   "execution_count": 31,
   "metadata": {},
   "outputs": [],
   "source": [
    "model.load_weights((DATA/'weights_inception.hdf5').as_posix())"
   ]
  },
  {
   "cell_type": "code",
   "execution_count": 32,
   "metadata": {},
   "outputs": [
    {
     "name": "stdout",
     "output_type": "stream",
     "text": [
      "528/528 [==============================] - 0s 866us/step\n"
     ]
    }
   ],
   "source": [
    "rounded_predictions = model.predict_classes(test_data, batch_size=32, verbose=1)"
   ]
  },
  {
   "cell_type": "markdown",
   "metadata": {},
   "source": [
    "## Kreiranje metrike"
   ]
  },
  {
   "cell_type": "markdown",
   "metadata": {},
   "source": [
    "### Preciznost(%)"
   ]
  },
  {
   "cell_type": "code",
   "execution_count": 33,
   "metadata": {
    "jupyter": {
     "source_hidden": true
    }
   },
   "outputs": [
    {
     "name": "stdout",
     "output_type": "stream",
     "text": [
      "528/528 [==============================] - 0s 219us/step\n"
     ]
    },
    {
     "data": {
      "text/plain": [
       "[0.7704206109046936, 0.5]"
      ]
     },
     "execution_count": 33,
     "metadata": {},
     "output_type": "execute_result"
    }
   ],
   "source": [
    "model.evaluate(test_data,test_labels, verbose=1,batch_size=batch_size)"
   ]
  },
  {
   "cell_type": "markdown",
   "metadata": {},
   "source": [
    "## Save model in .h5 format"
   ]
  },
  {
   "cell_type": "code",
   "execution_count": 40,
   "metadata": {},
   "outputs": [],
   "source": [
    "model.save(DATA/'final_model.h5')"
   ]
  },
  {
   "cell_type": "markdown",
   "metadata": {},
   "source": [
    "### Matrica pogrešaka"
   ]
  },
  {
   "cell_type": "code",
   "execution_count": 34,
   "metadata": {},
   "outputs": [
    {
     "data": {
      "text/plain": [
       "<function matplotlib.pyplot.show(*args, **kw)>"
      ]
     },
     "execution_count": 34,
     "metadata": {},
     "output_type": "execute_result"
    },
    {
     "data": {
      "image/png": "[encoded data removed]",
      "text/plain": [
       "<Figure size 432x288 with 1 Axes>"
      ]
     },
     "metadata": {
      "needs_background": "light"
     },
     "output_type": "display_data"
    }
   ],
   "source": [
    "#Confusion Matrix\n",
    "matrix = confusion_matrix(test_labels, rounded_predictions)\n",
    "\n",
    "dataframe = pd.DataFrame(matrix, index=class_names, columns=class_names)\n",
    "\n",
    "sns.heatmap(dataframe, annot=True, cbar=None, cmap=\"Blues\", fmt='g')\n",
    "plt.title(\"Confusion Matrix\")\n",
    "plt.tight_layout()\n",
    "plt.ylabel(\"True Class\")\n",
    "plt.xlabel(\"Predicted Class\")\n",
    "plt.show"
   ]
  },
  {
   "cell_type": "markdown",
   "metadata": {},
   "source": [
    "### Graf training/validation preciznosti i gubitka kroz epohe"
   ]
  },
  {
   "cell_type": "code",
   "execution_count": 35,
   "metadata": {},
   "outputs": [
    {
     "data": {
      "image/png": "[encoded data removed]",
      "text/plain": [
       "<Figure size 432x288 with 1 Axes>"
      ]
     },
     "metadata": {
      "needs_background": "light"
     },
     "output_type": "display_data"
    }
   ],
   "source": [
    "# summarize history for accuracy\n",
    "plt.plot(history.history['binary_accuracy'] )\n",
    "plt.plot(history.history['val_binary_accuracy'])\n",
    "plt.title('model accuracy')\n",
    "plt.ylabel('accuracy')\n",
    "plt.xlabel('epoch')\n",
    "plt.legend(['train', 'val'], loc='upper left')\n",
    "plt.show()"
   ]
  },
  {
   "cell_type": "code",
   "execution_count": 36,
   "metadata": {},
   "outputs": [
    {
     "data": {
      "image/png": "[encoded data removed]",
      "text/plain": [
       "<Figure size 432x288 with 1 Axes>"
      ]
     },
     "metadata": {
      "needs_background": "light"
     },
     "output_type": "display_data"
    }
   ],
   "source": [
    "# summarize history for loss\n",
    "plt.plot(history.history['loss'] )\n",
    "plt.plot(history.history['val_loss'])\n",
    "plt.title('model loss')\n",
    "plt.ylabel('loss')\n",
    "plt.xlabel('epoch')\n",
    "plt.legend(['train', 'val'], loc='upper left')\n",
    "plt.show()"
   ]
  },
  {
   "cell_type": "markdown",
   "metadata": {},
   "source": [
    "### Finding out incorrectly classified images"
   ]
  },
  {
   "cell_type": "code",
   "execution_count": 37,
   "metadata": {},
   "outputs": [],
   "source": [
    "incorrect_labels = []\n",
    "incorrect_classification_indices = []\n",
    "for i in range(rounded_predictions.shape[0]):\n",
    "    if not rounded_predictions[i] == test_labels[i]:\n",
    "        incorrect_classification_indices.append(i)\n",
    "        incorrect_labels.append(rounded_predictions[i][0])"
   ]
  },
  {
   "cell_type": "code",
   "execution_count": 38,
   "metadata": {},
   "outputs": [
    {
     "data": {
      "text/plain": [
       "264"
      ]
     },
     "execution_count": 38,
     "metadata": {},
     "output_type": "execute_result"
    }
   ],
   "source": [
    "len(incorrect_classification_indices)"
   ]
  },
  {
   "cell_type": "code",
   "execution_count": 39,
   "metadata": {},
   "outputs": [
    {
     "ename": "IndexError",
     "evalue": "list index out of range",
     "output_type": "error",
     "traceback": [
      "\u001b[0;31m---------------------------------------------------------------------------\u001b[0m",
      "\u001b[0;31mIndexError\u001b[0m                                Traceback (most recent call last)",
      "\u001b[0;32m<ipython-input-39-110d23a54cb3>\u001b[0m in \u001b[0;36m<module>\u001b[0;34m\u001b[0m\n\u001b[1;32m      4\u001b[0m         \u001b[0mincorrect_classification_file_paths\u001b[0m\u001b[0;34m.\u001b[0m\u001b[0mappend\u001b[0m\u001b[0;34m(\u001b[0m\u001b[0;34m'hotdog/'\u001b[0m\u001b[0;34m+\u001b[0m \u001b[0mos\u001b[0m\u001b[0;34m.\u001b[0m\u001b[0mlistdir\u001b[0m\u001b[0;34m(\u001b[0m\u001b[0mDATA\u001b[0m\u001b[0;34m/\u001b[0m\u001b[0;34m'test/hotdog'\u001b[0m\u001b[0;34m)\u001b[0m\u001b[0;34m[\u001b[0m\u001b[0mi\u001b[0m\u001b[0;34m]\u001b[0m\u001b[0;34m)\u001b[0m\u001b[0;34m\u001b[0m\u001b[0;34m\u001b[0m\u001b[0m\n\u001b[1;32m      5\u001b[0m     \u001b[0;32melse\u001b[0m\u001b[0;34m:\u001b[0m\u001b[0;34m\u001b[0m\u001b[0;34m\u001b[0m\u001b[0m\n\u001b[0;32m----> 6\u001b[0;31m         \u001b[0mincorrect_classification_file_paths\u001b[0m\u001b[0;34m.\u001b[0m\u001b[0mappend\u001b[0m\u001b[0;34m(\u001b[0m\u001b[0;34m'nothotdog/'\u001b[0m\u001b[0;34m+\u001b[0m \u001b[0mos\u001b[0m\u001b[0;34m.\u001b[0m\u001b[0mlistdir\u001b[0m\u001b[0;34m(\u001b[0m\u001b[0mDATA\u001b[0m\u001b[0;34m/\u001b[0m\u001b[0;34m'test/nothotdog'\u001b[0m\u001b[0;34m)\u001b[0m\u001b[0;34m[\u001b[0m\u001b[0mi\u001b[0m\u001b[0;34m]\u001b[0m\u001b[0;34m)\u001b[0m\u001b[0;34m\u001b[0m\u001b[0;34m\u001b[0m\u001b[0m\n\u001b[0m",
      "\u001b[0;31mIndexError\u001b[0m: list index out of range"
     ]
    }
   ],
   "source": [
    "incorrect_classification_file_paths = []\n",
    "for i in range(len(incorrect_classification_indices)):\n",
    "    if incorrect_classification_indices[i] < 300:\n",
    "        incorrect_classification_file_paths.append('hotdog/'+ os.listdir(DATA/'test/hotdog')[i])\n",
    "    else:\n",
    "        incorrect_classification_file_paths.append('nothotdog/'+ os.listdir(DATA/'test/nothotdog')[i])"
   ]
  },
  {
   "cell_type": "code",
   "execution_count": null,
   "metadata": {},
   "outputs": [],
   "source": [
    "print(cv2.__version__)\n",
    "img_path = DATA/'test/'\n",
    "def get_image(file_path):\n",
    "    if os.path.isfile(img_path + file_path):\n",
    "        image_bgr = cv2.imread(img_path + file_path,cv2.IMREAD_COLOR)\n",
    "        image_rgb = cv2.cvtColor(image_bgr, cv2.COLOR_BGR2RGB)\n",
    "        image_rgb_resized = cv2.resize(image_rgb, (299, 299), interpolation = cv2.INTER_CUBIC)\n",
    "        plt.imshow(image_rgb_resized)\n",
    "        plt.axis(\"off\")\n",
    "        plt.show()"
   ]
  },
  {
   "cell_type": "markdown",
   "metadata": {},
   "source": [
    "### Plotting a few incorrectly classified images"
   ]
  },
  {
   "cell_type": "code",
   "execution_count": null,
   "metadata": {},
   "outputs": [],
   "source": [
    "for i in range(0, len(incorrect_classification_file_paths), 10):\n",
    "    if 'nothotdog' in incorrect_classification_file_paths[i]:\n",
    "        print(\"True:not hotdog\")\n",
    "    else:\n",
    "        print(\"True:hotdog\")\n",
    "        \n",
    "    if incorrect_labels[i] == 1:\n",
    "        print(\"Pred:Not Hotdog\")\n",
    "    else:\n",
    "        print(\"Pred:Hotdog\")\n",
    "    get_image(incorrect_classification_file_paths[i])"
   ]
  }
 ],
 "metadata": {
  "kernelspec": {
   "display_name": "Python 3",
   "language": "python",
   "name": "python3"
  },
  "language_info": {
   "codemirror_mode": {
    "name": "ipython",
    "version": 3
   },
   "file_extension": ".py",
   "mimetype": "text/x-python",
   "name": "python",
   "nbconvert_exporter": "python",
   "pygments_lexer": "ipython3",
   "version": "3.6.7"
  }
 },
 "nbformat": 4,
 "nbformat_minor": 4
}
